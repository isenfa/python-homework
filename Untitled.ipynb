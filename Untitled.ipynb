{
 "cells": [
  {
   "cell_type": "code",
   "execution_count": 1,
   "id": "e86d17fc-94fa-434d-8c70-cfa92c5214bd",
   "metadata": {},
   "outputs": [
    {
     "name": "stdout",
     "output_type": "stream",
     "text": [
      "ธนดล พฤทธิบุญญกุล\n"
     ]
    }
   ],
   "source": [
    "print(\"ธนดล พฤทธิบุญญกุล\")"
   ]
  },
  {
   "cell_type": "code",
   "execution_count": 2,
   "id": "f3b06784-3752-49ae-ab4f-b6ea2e96a834",
   "metadata": {},
   "outputs": [
    {
     "name": "stdout",
     "output_type": "stream",
     "text": [
      "6812732106\n"
     ]
    }
   ],
   "source": [
    "print(\"6812732106\")"
   ]
  },
  {
   "cell_type": "code",
   "execution_count": null,
   "id": "a83a75b8-ed75-469f-930b-3e5350892fbe",
   "metadata": {},
   "outputs": [],
   "source": []
  }
 ],
 "metadata": {
  "kernelspec": {
   "display_name": "Python [conda env:base] *",
   "language": "python",
   "name": "conda-base-py"
  },
  "language_info": {
   "codemirror_mode": {
    "name": "ipython",
    "version": 3
   },
   "file_extension": ".py",
   "mimetype": "text/x-python",
   "name": "python",
   "nbconvert_exporter": "python",
   "pygments_lexer": "ipython3",
   "version": "3.13.5"
  }
 },
 "nbformat": 4,
 "nbformat_minor": 5
}
